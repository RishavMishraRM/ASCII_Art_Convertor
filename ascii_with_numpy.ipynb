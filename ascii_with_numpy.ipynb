{
 "cells": [
  {
   "cell_type": "code",
   "execution_count": 1,
   "metadata": {},
   "outputs": [],
   "source": [
    "import numpy as np\n",
    "import skimage\n",
    "from skimage import io, transform"
   ]
  },
  {
   "cell_type": "code",
   "execution_count": 52,
   "metadata": {},
   "outputs": [
    {
     "name": "stdout",
     "output_type": "stream",
     "text": [
      "......                                          ... \n",
      "......        .            .  .               .  .. \n",
      ".....          .............\". .                 . .\n",
      "....       .  .  . \"\">\"\"\"\">//=/\" .            .     \n",
      "......  ..\">.....\"\">>/===V=//=\".\">/>\". ..\".         \n",
      ".. .. ...\">\"\".\".\"\">>\">>/==VVNV=VVVV=//>>...\".      .\n",
      "..... .\"/===//>>/\">\">\"\">===VVNVXNXNN=VV=V=\"...      \n",
      "......==VVV=V==V===/>>>\"/>////==N=>>\"\"=//=V/.>..    \n",
      "... .=VNNVVV=VVNVV==/\">/>//==/\">\".>\"/>\">=VNV/\". .  .\n",
      ".....NNNNNNXNN>=VVVV==///==V//.>/=/>\".///VVVV/..    \n",
      "... =NNXXXXXXXXXNNNVNVVVV==/=V===/\"=>\" />\">//=>.    \n",
      "...>VNXXXXXXXXXXXXXXNNVVVVV==V=====//\"//==/=/==.    \n",
      "..\"VNXXXXXWXXXXXXNNNNVNNNNNNVVV=////>>>/VVV==//.    \n",
      "..=NXXXXXWXXWXXXXXNXNVVV=NN==V==\"\"/\"\".\"\"=VVV==\"..   \n",
      "..NXWWWWWXXWXXXWWXXXXNNNVVV=V/=>\">\"\"\"..\"\"VVV=>..    \n",
      ".VNWWWWWWXWXWWWWWWXWXXXNVNV=///>==/>....\"VVNV\"\".. . \n",
      ".NXWWWWWXWWWWWWWWWWXWXXXNVV===//VV/\".....>V=\">......\n",
      "\"XWWWWWWWWWWWWWWWWWWWXXNVVV===//VV/......\">\"\"\"......\n",
      ".VWWWWWWWWWWWWWWWWWWXXNVVNVVV/\"VV=.....\"V==.>.......\n",
      "..NXWWWWWWWWWWWWWWWWXXNXVVNN=\"/N=\"...\"===N//.\"......\n",
      "..\"VWWWWWWWWWWWWWWWWWNNNNNNV=VVV=>...>/./=>>........\n",
      "...\"XWWWWWWWWWWWWWWWXNVVVV/>=NNN>\"\"...\">=/..........\n",
      "....XXWXXXXWXXXWXXXNVV=VV/N/=\"V>..\"\". .\"............\n",
      "....NXNN///=>VXNNNV=//N=\"\"\"\"/>\".....................\n",
      "....VXXX\"\">.>/=V//>>\">/\"....... ...\"\".. ..\".........\n",
      "......>NV./.>==>/>>>\"\"\"....   .  ..\"\"\"..............\n",
      ".......\">N..../\"=///>\"\"....... ...\"\".>>\"\"...........\n",
      "........./=>..\"\">/=/>>\"\"............\".\">\"\"..........\n",
      ".........\"=VN\"\"\"..=/>>>\"\"...........................\n",
      "...........=NXWXV=V=>>>\"\"............ ../\"..........\n",
      "............>XWX=>=V/>>\"\"\".\".......>==/>=\"... ......\n",
      ".............>XN=>>V=>>\"\"\"\"\"\"..\"\"VV>\".==/\".... .....\n",
      ".\".\"\".\"\"\"....\"N//>\"/V=/>\"\"\"\"\"\"\"..\"\">>/>>>/V.........\n",
      "\"\"\"\"\"\".\"\"\".\".\"\"\"/>>>=VV/>\"\"\"\"\"\"..\"\"\"\"\"\"\"\"=XXXXXN=>..\n",
      "\"\"\"\"\"\"\"\"\"\"\"\"\"NXX/\"\"\"\"/=VV/>\"\"\"\"..........=XXWWWXWWXX\n",
      "\"\"\"\"\"\"\"\"\"\"\"NNXX=/>\"\"\"\">/VVVV/>\"\"...  ...\"NWWWWWWWXWW\n",
      "\"\"\"\"\"\"\"\"/NXXX .==/\"\"\".\"\">/VVVNV/>\"\"\"..\">NWWWWWWWWWWW\n",
      "\"\"\"\"\"\"NXXWWX .\"/V/>\"\"\"\"\">>>>//=VVVV===>XWWWWWWWWWWWW\n",
      "\"\"\"/XXWXWWWWX\"\"/=/>>\"\".\"\">>>\"\"\">=VV===/WWWWWWWWWWWWW\n",
      ">XWXXWWWWWWWWX/>==/>\"\"\"\"\">//>\"\">/=////WWWWWWWWWWWWWW\n",
      "XWWWWWWWWWWWWWW/===/>\"\"\"\">////////>>>VWWWWWWWWWWWWWW\n",
      "WWWWWWWWWWWWWWWWV==//>\"\"\">>>>>>>/>\">/WWWWWWWWWWWWWWW\n",
      "WWWWWWWWWWWWWWWWWWV///>\"\"\"///>//>>>=WWWWWWWWWWWWWWWW\n",
      "WWWWWWWWWWWWWWWWWWWW=///>>>////>>>XWWWWWWWWWWWWWWWWW\n",
      "WWWWWWWWWWWWWWWWWWWWWWN=/>//==/>/WWWWWWWWWWWWWWWWWWW\n",
      "WWWWWWWWWWWWWWWWWWWWWWWWWWVVNNWWWWWWWWWWWWWWWWWWWWWW\n",
      "WWWWWWWWWWWWWWWWWWWWWWWWWWWWWWWWWWWWWWWWWWWWWWWWWWWW\n",
      "WWWWWWWWWWWWWWWWWWWWWWWWWWWWWWWWWWWWWWWWWWWWWWWWWWWW\n",
      "WWWWWWWWWWWWWWWWWWWWWWWWWWWWWWWWWWWWWWWWWWWWWWWWWWWW\n",
      "WWWWWWWWWWWWWWWWWWWWWWWWWWWWWWWWWWWWWWWWWWWWWWWWWWWW\n"
     ]
    },
    {
     "name": "stderr",
     "output_type": "stream",
     "text": [
      "/usr/local/conda3/lib/python3.6/site-packages/skimage/transform/_warps.py:105: UserWarning: The default mode, 'constant', will be changed to 'reflect' in skimage 0.15.\n",
      "  warn(\"The default mode, 'constant', will be changed to 'reflect' in \"\n",
      "/usr/local/conda3/lib/python3.6/site-packages/skimage/transform/_warps.py:110: UserWarning: Anti-aliasing will be enabled by default in skimage 0.15 to avoid aliasing artifacts when down-sampling images.\n",
      "  warn(\"Anti-aliasing will be enabled by default in skimage 0.15 to \"\n"
     ]
    }
   ],
   "source": [
    "def scale_image(image=np.zeros((100,100)), \n",
    "                new_width=100,\n",
    "                ascii_block_size=(2,3)):\n",
    "    original_width, original_height = image.shape\n",
    "    aspect_ratio = original_height / float(original_width)\n",
    "    w,h = ascii_block_size\n",
    "    new_height = int(h/w * aspect_ratio * new_width)\n",
    "\n",
    "    return skimage.transform.resize(image, (new_width, new_height))\n",
    "def image2ascii(image=np.zeros((100,100)), \n",
    "                new_width=100):\n",
    "    \n",
    "    def float2char(x=.1):\n",
    "        ASCII_CHARS = [ 'W','X','@','0','#', '+', ';', ':', '\"','.',' ']\n",
    "        ASCII_CHARS = [ 'W','X','N','V', '=', '/', '>', '\"','.',' ']\n",
    "        num_chars = len(ASCII_CHARS)\n",
    "        return ASCII_CHARS[ int(num_chars*x) ]\n",
    "    float2char = np.vectorize(float2char)\n",
    "    \n",
    "    image = scale_image(image, new_width=new_width)\n",
    "    rows = [\"\".join(row) for row in float2char(.999*image) ]\n",
    "    return \"\\n\".join(rows)\n",
    "\n",
    "def handle_image_conversion(image_filepath, \n",
    "                            new_width=100):\n",
    "    \n",
    "    image = np.zeros((200,200))\n",
    "    \n",
    "    try:\n",
    "        image = skimage.io.imread( image_filepath, as_gray=True)\n",
    "    except Exception as e:\n",
    "        format_str = \"Unable to open image file {image_filepath}.\"\n",
    "        print( format_str.format(image_filepath=image_filepath))\n",
    "        print(e)\n",
    "        return\n",
    "   \n",
    "    image_ascii = image2ascii(image, new_width=new_width)\n",
    "    print(image_ascii)\n",
    "\n",
    "handle_image_conversion('bowie.jpg', new_width=50)"
   ]
  },
  {
   "cell_type": "markdown",
   "metadata": {},
   "source": [
    "You should add a __name__ if you want to run this in CLI"
   ]
  },
  {
   "cell_type": "code",
   "execution_count": null,
   "metadata": {},
   "outputs": [],
   "source": [
    "if __name__=='__main__':\n",
    "    import sys\n",
    "\n",
    "    image_file_path = sys.argv[1]\n",
    "    image2ascii(image_file_path)"
   ]
  },
  {
   "cell_type": "code",
   "execution_count": 12,
   "metadata": {},
   "outputs": [
    {
     "name": "stdout",
     "output_type": "stream",
     "text": [
      "42790973_10216099963785409_3651339491479650304_n.jpg\r\n",
      "42837627_10216099964585429_1267500133868634112_o.jpg\r\n",
      "43262215_1846119612172585_2375541407780700160_n.jpg\r\n",
      "Pieter_Bruegel_the_Elder_-_The_Tower_of_Babel_(Rotterdam)_-_Google_Art_Project.jpg\r\n",
      "bee_sting.jpg\r\n",
      "bowie.jpg\r\n",
      "kieran pat.jpg\r\n",
      "st aidans staff 1983.jpg\r\n",
      "trump.jpg\r\n",
      "tt.jpg\r\n",
      "zhu-pompidou 20151014_165549.jpg\r\n",
      "zhu.jpg\r\n"
     ]
    }
   ],
   "source": [
    "! ls *jpg"
   ]
  },
  {
   "cell_type": "code",
   "execution_count": null,
   "metadata": {},
   "outputs": [],
   "source": []
  }
 ],
 "metadata": {
  "kernelspec": {
   "display_name": "Python 3",
   "language": "python",
   "name": "python3"
  },
  "language_info": {
   "codemirror_mode": {
    "name": "ipython",
    "version": 3
   },
   "file_extension": ".py",
   "mimetype": "text/x-python",
   "name": "python",
   "nbconvert_exporter": "python",
   "pygments_lexer": "ipython3",
   "version": "3.7.7"
  }
 },
 "nbformat": 4,
 "nbformat_minor": 2
}
